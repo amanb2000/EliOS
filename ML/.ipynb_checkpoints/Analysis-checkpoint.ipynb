{
 "cells": [
  {
   "cell_type": "markdown",
   "metadata": {},
   "source": [
    "# Analysis of EEG\n",
    "In this notebook, we will be analyzing EEG and making predictions based on some other data. All must be processed from the JSON of the patient data and CSV of EEG data.\n",
    "\n",
    "## EEG Processing (No ML)\n",
    "* Get data from CSV\n",
    "* Fourier Transform the Data.\n",
    "* Isolate primary frequency bands from FFT.\n",
    "* Predict:\n",
    "    * Calm\n",
    "    * Mindfulness\n",
    "    * Flow state\n",
    "\n",
    "### Notes on Implementation\n",
    "* Every time a user saves their data, we need to go into their EEG data and process these things for them.\n",
    "* Just call this script on the EEG data and put the returned dictionary key-value pairs back into each user object for that day.\n",
    "\n",
    "## ML Processing\n",
    "This stuff should be done very simply in SKLearn first. Make first attempt with multi-layer perceptrons, then create more advanced models as time permits.\n",
    "\n",
    "1. Predict tomorrow's data (Later: convert to RNN)\n",
    "    * Predict next 3 days of data.\n",
    "2. Classifier for diagnosis based on behavior\n",
    "    * Most common: Depression, Bipolar I, Bipolar II, Dysthemia, Seasonal Affective Disorder.\n",
    "    * Extract features on each person (aggregate mood averages, variance in all variables, etc. to get your features)\n",
    "3. Predict deviation from baseline using brain scans (compare the current scan to your baseline):\n",
    "    * Predict today's behavior variables\n",
    "    * Predict \n",
    "    \n",
    "### Notes on Implementation\n",
    "* I just need a table of each patient's basic attributes for `today` (not including the raw EEG - just the alpha-gamma + R waves from the patient object).\n",
    "    * For predictions: Include the next day's mood and the day after's mood where possible\n",
    "* I will train a shallow MLP (multi-layer perceptron) on that data, then we can add `predictions` to each user's documents using that.\n",
    "* Run this script every ~6 hours?\n",
    "\n",
    "# Research\n",
    "## Recognizing Degree of Human Attention from EEG:\n",
    "[Paper](https://www.ncbi.nlm.nih.gov/pmc/articles/PMC3812603/)\n",
    "* Alpha: `[8-13]`hz consciousness, quiet, or at rest. When thinking, blinking, or otherwise stimulated, α waves disappear.\n",
    "* Beta: `[14-30]`hz particularly apparent when a person is thinking or receiving sensory stimulation.\n",
    "* Theta: `[4-7]`hz Such waves are produced when people experience emotional pressure, interruptions of consciousness, or deep physical relaxation\n",
    "* Gamma: `[31-50]`hz Recent studies have found that γ activity is related to selective attention. Other studies have also highlighted that this activity is related to cognition and perceptual activity.\n",
    "\n"
   ]
  },
  {
   "cell_type": "code",
   "execution_count": 226,
   "metadata": {},
   "outputs": [],
   "source": [
    "# Imports\n",
    "import numpy as np\n",
    "import pandas as pd\n",
    "import matplotlib\n",
    "import matplotlib.pyplot as plt\n",
    "import math"
   ]
  },
  {
   "cell_type": "code",
   "execution_count": 230,
   "metadata": {},
   "outputs": [
    {
     "data": {
      "text/html": [
       "<div>\n",
       "<style scoped>\n",
       "    .dataframe tbody tr th:only-of-type {\n",
       "        vertical-align: middle;\n",
       "    }\n",
       "\n",
       "    .dataframe tbody tr th {\n",
       "        vertical-align: top;\n",
       "    }\n",
       "\n",
       "    .dataframe thead th {\n",
       "        text-align: right;\n",
       "    }\n",
       "</style>\n",
       "<table border=\"1\" class=\"dataframe\">\n",
       "  <thead>\n",
       "    <tr style=\"text-align: right;\">\n",
       "      <th></th>\n",
       "      <th>timestamp</th>\n",
       "      <th>eeg1</th>\n",
       "      <th>eeg2</th>\n",
       "      <th>eeg3</th>\n",
       "      <th>eeg4</th>\n",
       "      <th>eeg5(aux)</th>\n",
       "    </tr>\n",
       "  </thead>\n",
       "  <tbody>\n",
       "    <tr>\n",
       "      <th>0</th>\n",
       "      <td>1.574122e+09</td>\n",
       "      <td>0.000000</td>\n",
       "      <td>0.000000</td>\n",
       "      <td>-0.488281</td>\n",
       "      <td>0.000000</td>\n",
       "      <td>0.0</td>\n",
       "    </tr>\n",
       "    <tr>\n",
       "      <th>1</th>\n",
       "      <td>1.574122e+09</td>\n",
       "      <td>-0.976562</td>\n",
       "      <td>0.000000</td>\n",
       "      <td>0.000000</td>\n",
       "      <td>0.488281</td>\n",
       "      <td>0.0</td>\n",
       "    </tr>\n",
       "    <tr>\n",
       "      <th>2</th>\n",
       "      <td>1.574122e+09</td>\n",
       "      <td>-9.277344</td>\n",
       "      <td>-32.226562</td>\n",
       "      <td>-0.488281</td>\n",
       "      <td>-3.417969</td>\n",
       "      <td>0.0</td>\n",
       "    </tr>\n",
       "    <tr>\n",
       "      <th>3</th>\n",
       "      <td>1.574122e+09</td>\n",
       "      <td>25.390625</td>\n",
       "      <td>68.847656</td>\n",
       "      <td>0.488281</td>\n",
       "      <td>3.906250</td>\n",
       "      <td>0.0</td>\n",
       "    </tr>\n",
       "    <tr>\n",
       "      <th>4</th>\n",
       "      <td>1.574122e+09</td>\n",
       "      <td>-132.812500</td>\n",
       "      <td>-390.136719</td>\n",
       "      <td>0.000000</td>\n",
       "      <td>-9.765625</td>\n",
       "      <td>0.0</td>\n",
       "    </tr>\n",
       "  </tbody>\n",
       "</table>\n",
       "</div>"
      ],
      "text/plain": [
       "      timestamp        eeg1        eeg2      eeg3      eeg4  eeg5(aux)\n",
       "0  1.574122e+09    0.000000    0.000000 -0.488281  0.000000        0.0\n",
       "1  1.574122e+09   -0.976562    0.000000  0.000000  0.488281        0.0\n",
       "2  1.574122e+09   -9.277344  -32.226562 -0.488281 -3.417969        0.0\n",
       "3  1.574122e+09   25.390625   68.847656  0.488281  3.906250        0.0\n",
       "4  1.574122e+09 -132.812500 -390.136719  0.000000 -9.765625        0.0"
      ]
     },
     "execution_count": 230,
     "metadata": {},
     "output_type": "execute_result"
    }
   ],
   "source": [
    "# GETTING DATA FROM CSV\n",
    "\n",
    "# Constants: \n",
    "csv_path = 'sample-data/'\n",
    "csv_name = 'muse-recording_20191118T185915.csv'\n",
    "\n",
    "# Getting Pandas:\n",
    "pd_in = pd.read_csv(csv_path+csv_name)\n",
    "pd_in.head()"
   ]
  },
  {
   "cell_type": "code",
   "execution_count": 232,
   "metadata": {},
   "outputs": [
    {
     "data": {
      "text/plain": [
       "{'alpha': 20.264485604212375,\n",
       " 'beta': 23.5198372453912,\n",
       " 'theta': 20.762641421393614,\n",
       " 'delta': 19.860365438401878,\n",
       " 'gamma': 22.331121948064684,\n",
       " 'R': -3.2553516411788253}"
      ]
     },
     "execution_count": 232,
     "metadata": {},
     "output_type": "execute_result"
    }
   ],
   "source": [
    "# Fourier Transformation Functions\n",
    "\n",
    "# Constants:\n",
    "sample_rate = 256 # Hz\n",
    "\n",
    "def getLabeledFFT(col):\n",
    "    len_seconds = len(col)/sample_rate;\n",
    "    fft = np.fft.fft(col);\n",
    "    fft = np.abs(fft)**2 # Getting power spectrum of EEG\n",
    "    fft = fft[:(len(fft)//2)];\n",
    "    \n",
    "    freqs = [];\n",
    "    \n",
    "    for ind in range(0, len(fft)):\n",
    "        freqs.append(ind*1/len_seconds)\n",
    "    \n",
    "    list_out = [freqs, fft];\n",
    "    \n",
    "    return list_out\n",
    "\n",
    "def getBands(col, log=True):\n",
    "    # alpha: 8-13hz\n",
    "    # beta: 14-30hz\n",
    "    # theta: 4-7hz\n",
    "    # delta: 0.5-3hz\n",
    "    # gamma: 31-50hz\n",
    "    alpha = 0\n",
    "    beta = 0\n",
    "    theta = 0\n",
    "    delta = 0\n",
    "    gamma = 0\n",
    "    \n",
    "    num_alpha = 0\n",
    "    num_beta = 0\n",
    "    num_theta = 0\n",
    "    num_delta = 0\n",
    "    num_gamma = 0\n",
    "    \n",
    "    list_in = getLabeledFFT(col)\n",
    "    freqs = list_in[0]\n",
    "    amps = list_in[1]\n",
    "    \n",
    "    for i in range(len(freqs)):\n",
    "        freq = freqs[i]\n",
    "        if(freq > 0.5 and freq < 4):\n",
    "            delta += amps[i]\n",
    "            num_delta += 1\n",
    "        elif(freq < 8):\n",
    "            theta += amps[i]\n",
    "            num_theta += 1\n",
    "        elif(freq < 14):\n",
    "            alpha += amps[i]\n",
    "            num_alpha += 1\n",
    "        elif(freq < 31):\n",
    "            beta += amps[i]\n",
    "            num_beta += 1\n",
    "        elif(freq < 51):\n",
    "            gamma += amps[i]\n",
    "            num_gamma += 1\n",
    "    \n",
    "    ret_dict = {\n",
    "        \"alpha\": (alpha/num_alpha),\n",
    "        \"beta\": (beta/num_beta),\n",
    "        \"theta\": (theta/num_theta),\n",
    "        \"delta\": (delta/num_delta),\n",
    "        \"gamma\": (gamma/num_gamma),\n",
    "        \"R\": ((alpha/num_alpha)/(beta/num_beta))\n",
    "    }\n",
    "    \n",
    "    '''\n",
    "        In addition, according to previous research [23], definite interrelations exist between α and β activities. \n",
    "        For example, α activity indicates that the brain is in a state of relaxation, whereas β activity is related \n",
    "        to stimulation. In the study mentioned previously, to observe continuous changes in the mental state of the \n",
    "        subjects, the ratio of α and β activities was used as the feature for assessing the level of mental \n",
    "        attentiveness. This study produced the following feature value using the same principle:\n",
    "    '''\n",
    "    \n",
    "    if(log):\n",
    "        for key, value in ret_dict.items():\n",
    "            ret_dict[key] = np.log(value)\n",
    "    \n",
    "    return ret_dict\n",
    "\n",
    "def aggregate_all_bands(inp):\n",
    "    dicts = [getBands(inp['eeg1']), getBands(inp['eeg2']), getBands(inp['eeg3']), getBands(inp['eeg4']), getBands(inp['eeg5(aux)'])]\n",
    "    ret_dict = {\"alpha\": 0, \"beta\": 0, \"theta\": 0, \"delta\": 0, \"gamma\": 0, \"R\": 0}\n",
    "    \n",
    "    for i in dicts:\n",
    "        ret_dict['alpha'] += (1/5) * i['alpha'];\n",
    "        ret_dict['beta'] += (1/5) * i['beta'];\n",
    "        ret_dict['gamma'] += (1/5) * i['gamma'];\n",
    "        ret_dict['delta'] += (1/5) * i['delta'];\n",
    "        ret_dict['theta'] += (1/5) * i['theta'];\n",
    "        ret_dict['R'] += (1/5) * i['R'];\n",
    "    \n",
    "aggregate_bands = aggregate_all_bands(pd_in)\n",
    "\n",
    "bands"
   ]
  },
  {
   "cell_type": "code",
   "execution_count": 169,
   "metadata": {},
   "outputs": [
    {
     "data": {
      "text/plain": [
       "27932"
      ]
     },
     "execution_count": 169,
     "metadata": {},
     "output_type": "execute_result"
    }
   ],
   "source": []
  },
  {
   "cell_type": "code",
   "execution_count": 201,
   "metadata": {},
   "outputs": [
    {
     "name": "stdout",
     "output_type": "stream",
     "text": [
      "Length of the final thing: 256\n",
      "Time in seconds of the final thing is: 1.0\n",
      "The arg max is now: 127\n",
      "The max frequency in hertz is therefore: 127.0\n"
     ]
    },
    {
     "data": {
      "image/png": "[encoded data removed]",
      "text/plain": [
       "<Figure size 432x288 with 1 Axes>"
      ]
     },
     "metadata": {
      "needs_background": "light"
     },
     "output_type": "display_data"
    }
   ],
   "source": []
  },
  {
   "cell_type": "markdown",
   "metadata": {},
   "source": [
    "# FFT Testing"
   ]
  },
  {
   "cell_type": "code",
   "execution_count": null,
   "metadata": {},
   "outputs": [],
   "source": [
    "sample_rate = 256\n",
    "\n",
    "time = np.arange(0, 1, 1/sample_rate)\n",
    "a = np.sin(time*65*3.1415)\n",
    "# b = np.sin(time*200)\n",
    "\n",
    "#plt.plot(a)\n",
    "#plt.plot(b) # B has higher frequency\n",
    "\n",
    "# c = a+(b*0.5) # C should have a higher peak at a higher frequency\n",
    "c = a\n",
    "plt.plot(c)\n",
    "\n",
    "# fft = np.fft.fft(c)\n",
    "\n",
    "fft_out = getLabeledFFT(c)[0]\n",
    "\n",
    "# plt.plot(fft_out)\n",
    "len_seconds = len(fft_out) / sample_rate * 2\n",
    "\n",
    "\n",
    "print('Length of the final thing: {}'.format(len(c)))\n",
    "print('Time in seconds of the final thing is: {}'.format(len_seconds))\n",
    "print('The arg max is now: {}'.format(np.argmax(fft_out)))\n",
    "print('The max frequency in hertz is therefore: {}'.format( np.argmax(fft_out)/ len_seconds ) )"
   ]
  }
 ],
 "metadata": {
  "kernelspec": {
   "display_name": "Python 3",
   "language": "python",
   "name": "python3"
  },
  "language_info": {
   "codemirror_mode": {
    "name": "ipython",
    "version": 3
   },
   "file_extension": ".py",
   "mimetype": "text/x-python",
   "name": "python",
   "nbconvert_exporter": "python",
   "pygments_lexer": "ipython3",
   "version": "3.7.1"
  }
 },
 "nbformat": 4,
 "nbformat_minor": 2
}
